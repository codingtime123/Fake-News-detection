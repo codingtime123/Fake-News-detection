{
 "cells": [
  {
   "cell_type": "code",
   "execution_count": 1,
   "id": "44d738db-4b22-4be7-aa39-b83a8e3a62ae",
   "metadata": {
    "tags": []
   },
   "outputs": [],
   "source": [
    "import easygui\n",
    "import nltk\n",
    "import pandas as pd\n",
    "import pickle\n",
    "import warnings\n",
    "import seaborn as sns\n",
    "from wordcloud import WordCloud, STOPWORDS\n",
    "import re\n",
    "import unicodedata\n",
    "import nltk\n",
    "from nltk.corpus import stopwords\n",
    "from nltk.util import ngrams\n",
    "import gensim\n",
    "from gensim.utils import simple_preprocess\n",
    "from gensim.parsing.preprocessing import STOPWORDS\n",
    "import plotly.express as px\n",
    "import warnings\n",
    "from datetime import datetime as dt"
   ]
  },
  {
   "cell_type": "code",
   "execution_count": 5,
   "id": "4a52c19e-dd2c-4db3-bb2b-c740df58cac4",
   "metadata": {
    "tags": []
   },
   "outputs": [],
   "source": [
    "def preprocess(text):\n",
    "    result = []\n",
    "    stop_words = stopwords.words('english')\n",
    "    for token in gensim.utils.simple_preprocess(text):\n",
    "        if token not in gensim.parsing.preprocessing.STOPWORDS and len(token) > 2 and token not in stop_words:\n",
    "            result.append(token)\n",
    "\n",
    "    return result\n",
    "def listToString(s):\n",
    "    # initialize an empty string\n",
    "    str1 = \" \"\n",
    "    # return string\n",
    "    return (str1.join(s))\n",
    "def Newdata():\n",
    "    easygui.msgbox(\"The link is not in our dataset\")\n",
    "    newdata=easygui.multenterbox('please enter all the data below','Input data',['Title of the paper','Contents'],['',''])\n",
    "    return newdata\n",
    "def Nindataset(newdata):\n",
    "    newdata=pd.DataFrame([{'title':newdata[1],'text':newdata[2]}])\n",
    "    newdata['processed_title'] = newdata['title'].apply(preprocess)\n",
    "    newdata['processed_text'] = newdata['text'].apply(preprocess)\n",
    "\n",
    "    # then from list back to string\n",
    "    newdata['processed_title'] = newdata['processed_title'].apply(listToString)\n",
    "    newdata['processed_text'] = newdata['processed_text'].apply(listToString)\n",
    "    X_vec_test = vectormodel.transform(newdata.processed_text)\n",
    "    return lrbow.predict(X_vec_test)\n",
    "link=pd.read_csv('opensources.csv')\n",
    "lrbow=pickle.load(open('lrbow','rb'))\n",
    "vectormodel=pickle.load(open('bow','rb'))\n",
    "warnings.filterwarnings('ignore')"
   ]
  },
  {
   "cell_type": "code",
   "execution_count": 7,
   "id": "beedec42-e7d0-44af-8ba6-c86cd6978d8a",
   "metadata": {
    "tags": []
   },
   "outputs": [
    {
     "name": "stdout",
     "output_type": "stream",
     "text": [
      "Closed\n"
     ]
    },
    {
     "ename": "TypeError",
     "evalue": "'NoneType' object is not subscriptable",
     "output_type": "error",
     "traceback": [
      "\u001b[1;31m---------------------------------------------------------------------------\u001b[0m",
      "\u001b[1;31mTypeError\u001b[0m                                 Traceback (most recent call last)",
      "Cell \u001b[1;32mIn[7], line 12\u001b[0m\n\u001b[0;32m     10\u001b[0m     \u001b[38;5;28mprint\u001b[39m(\u001b[38;5;124m'\u001b[39m\u001b[38;5;124mClosed\u001b[39m\u001b[38;5;124m'\u001b[39m)\n\u001b[0;32m     11\u001b[0m     \u001b[38;5;28;01mNone\u001b[39;00m \n\u001b[1;32m---> 12\u001b[0m test\u001b[38;5;241m=\u001b[39mNindataset(data)\n\u001b[0;32m     13\u001b[0m \u001b[38;5;28;01mif\u001b[39;00m test\u001b[38;5;241m==\u001b[39m\u001b[38;5;241m0\u001b[39m:\n\u001b[0;32m     14\u001b[0m     easygui\u001b[38;5;241m.\u001b[39mmsgbox(\u001b[38;5;124m'\u001b[39m\u001b[38;5;124mTHIS IS FAKE NEWS\u001b[39m\u001b[38;5;124m'\u001b[39m)\n",
      "Cell \u001b[1;32mIn[5], line 19\u001b[0m, in \u001b[0;36mNindataset\u001b[1;34m(newdata)\u001b[0m\n\u001b[0;32m     18\u001b[0m \u001b[38;5;28;01mdef\u001b[39;00m \u001b[38;5;21mNindataset\u001b[39m(newdata):\n\u001b[1;32m---> 19\u001b[0m     newdata\u001b[38;5;241m=\u001b[39mpd\u001b[38;5;241m.\u001b[39mDataFrame([{\u001b[38;5;124m'\u001b[39m\u001b[38;5;124mtitle\u001b[39m\u001b[38;5;124m'\u001b[39m:newdata[\u001b[38;5;241m1\u001b[39m],\u001b[38;5;124m'\u001b[39m\u001b[38;5;124mtext\u001b[39m\u001b[38;5;124m'\u001b[39m:newdata[\u001b[38;5;241m2\u001b[39m]}])\n\u001b[0;32m     20\u001b[0m     newdata[\u001b[38;5;124m'\u001b[39m\u001b[38;5;124mprocessed_title\u001b[39m\u001b[38;5;124m'\u001b[39m] \u001b[38;5;241m=\u001b[39m newdata[\u001b[38;5;124m'\u001b[39m\u001b[38;5;124mtitle\u001b[39m\u001b[38;5;124m'\u001b[39m]\u001b[38;5;241m.\u001b[39mapply(preprocess)\n\u001b[0;32m     21\u001b[0m     newdata[\u001b[38;5;124m'\u001b[39m\u001b[38;5;124mprocessed_text\u001b[39m\u001b[38;5;124m'\u001b[39m] \u001b[38;5;241m=\u001b[39m newdata[\u001b[38;5;124m'\u001b[39m\u001b[38;5;124mtext\u001b[39m\u001b[38;5;124m'\u001b[39m]\u001b[38;5;241m.\u001b[39mapply(preprocess)\n",
      "\u001b[1;31mTypeError\u001b[0m: 'NoneType' object is not subscriptable"
     ]
    }
   ],
   "source": [
    "temp=easygui.enterbox(\"enter the link\",\"Fake News Detection tool\",'https://','')\n",
    "if temp==None:\n",
    "    None\n",
    "elif len(temp.split('//'))>1:\n",
    "    if temp.split('//')[1].split('/')[0] in list(link.domain):\n",
    "        print('tin vit')\n",
    "    else:\n",
    "        data=Newdata()\n",
    "        if data==None:\n",
    "            print('Closed')\n",
    "            None \n",
    "        test=Nindataset(data)\n",
    "        if test==0:\n",
    "            easygui.msgbox('THIS IS FAKE NEWS')\n",
    "        else:\n",
    "            easygui.msgbox('THIS IS GOOD NEWS')"
   ]
  }
 ],
 "metadata": {
  "kernelspec": {
   "display_name": "Python 3 (ipykernel)",
   "language": "python",
   "name": "python3"
  },
  "language_info": {
   "codemirror_mode": {
    "name": "ipython",
    "version": 3
   },
   "file_extension": ".py",
   "mimetype": "text/x-python",
   "name": "python",
   "nbconvert_exporter": "python",
   "pygments_lexer": "ipython3",
   "version": "3.11.4"
  }
 },
 "nbformat": 4,
 "nbformat_minor": 5
}
